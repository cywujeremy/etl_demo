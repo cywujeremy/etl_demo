{
 "cells": [
  {
   "cell_type": "markdown",
   "metadata": {},
   "source": [
    "## acs_etl.load"
   ]
  },
  {
   "cell_type": "markdown",
   "metadata": {},
   "source": [
    "Create table and load data into the specified database."
   ]
  },
  {
   "cell_type": "markdown",
   "metadata": {},
   "source": [
    "### Source Code"
   ]
  },
  {
   "cell_type": "code",
   "execution_count": null,
   "metadata": {},
   "outputs": [],
   "source": [
    "# default_exp load"
   ]
  },
  {
   "cell_type": "code",
   "execution_count": null,
   "metadata": {},
   "outputs": [
    {
     "data": {
      "text/plain": [
       "'E:\\\\OneDriveLocal\\\\OneDrive\\\\学习\\\\Graduate Study\\\\2021Fall\\\\mlpp\\\\etl_demo'"
      ]
     },
     "execution_count": null,
     "metadata": {},
     "output_type": "execute_result"
    }
   ],
   "source": [
    "#export\n",
    "import os\n",
    "os.chdir('../')\n",
    "os.getcwd()"
   ]
  },
  {
   "cell_type": "code",
   "execution_count": null,
   "metadata": {},
   "outputs": [],
   "source": [
    "#export\n",
    "from nbdev.showdoc import *\n",
    "from acs_etl.acs import ACS_Blockgroup_Data_Pull\n",
    "import numpy as np\n",
    "import pandas as pd\n",
    "import psycopg2\n",
    "import re"
   ]
  },
  {
   "cell_type": "code",
   "execution_count": null,
   "metadata": {},
   "outputs": [],
   "source": [
    "# export\n",
    "def database_connector(func):\n",
    "    def with_connection(*args, **kwargs):\n",
    "\n",
    "        conn = psycopg2.connect(\n",
    "            host='acs-db.mlpolicylab.dssg.io',\n",
    "            database='acs_data_loading',\n",
    "            user='mlpp_student',\n",
    "            password='CARE-horse-most')\n",
    "        cur = conn.cursor()\n",
    "\n",
    "        try:\n",
    "            func(*args, cur, **kwargs)\n",
    "            conn.commit()\n",
    "\n",
    "        except Exception as e:\n",
    "            print(e)\n",
    "\n",
    "        finally:\n",
    "            cur.close()\n",
    "            conn.close()\n",
    "\n",
    "    return with_connection"
   ]
  },
  {
   "cell_type": "code",
   "execution_count": null,
   "metadata": {},
   "outputs": [],
   "source": [
    "#export\n",
    "def series_to_tuple_like_string(series):\n",
    "    '''Transform a pandas series into a tuple-like string to fit in SQL queries.\n",
    "    '''\n",
    "    string = '('\n",
    "    for item in series:\n",
    "        if not re.match(r'^[0-9]+$', str(item)):\n",
    "            string = string + \"'\" + str(item) + \"'\" + ','\n",
    "        else:\n",
    "            string = string + str(item) + ','\n",
    "    string = string.strip(',') + ')'\n",
    "    return string"
   ]
  },
  {
   "cell_type": "code",
   "execution_count": null,
   "metadata": {},
   "outputs": [],
   "source": [
    "#export\n",
    "class ACS_Blockgroup_Data_Loader:\n",
    "    \n",
    "    def __init__(self, df, db_dict, schema, table):\n",
    "        self.df: pd.DataFrame = df\n",
    "        self.db_dict: dict = db_dict\n",
    "        self.schema: str = schema\n",
    "        self.table: str = table\n",
    "            \n",
    "        self.host = db_dict['host']\n",
    "        self.database = db_dict['database']\n",
    "        self.user = db_dict['user']\n",
    "        self.password = db_dict['password']\n",
    "    \n",
    "    @database_connector\n",
    "    def create_table(self, cur):\n",
    "        '''Create a table with the specified name.\n",
    "        '''\n",
    "        cur.execute(f\"CREATE TABLE acs.{self.table} (\\\n",
    "                     state_id INTEGER,\\\n",
    "                     state VARCHAR(4),\\\n",
    "                     county_id INTEGER,\\\n",
    "                     county VARCHAR(40),\\\n",
    "                     blockgroup INTEGER,\\\n",
    "                     tract INTEGER,\\\n",
    "                     total_population NUMERIC,\\\n",
    "                     median_age NUMERIC,\\\n",
    "                     per_capita_income NUMERIC,\\\n",
    "                     median_rent_to_household_income NUMERIC,\\\n",
    "                     avg_household_size NUMERIC,\\\n",
    "                     NAME VARCHAR(100)\\\n",
    "                   )\")\n",
    "    \n",
    "    @database_connector\n",
    "    def insert_data(self, cur):\n",
    "        '''Insert rows in df into the specified table.\n",
    "        '''\n",
    "        for i, row in self.df.iterrows():\n",
    "            row_string = series_to_tuple_like_string(row)\n",
    "            cur.execute(f\"INSERT INTO acs.{self.table} VALUES {row_string}\")\n",
    "            "
   ]
  },
  {
   "cell_type": "markdown",
   "metadata": {},
   "source": [
    "### Executing Loading Process"
   ]
  },
  {
   "cell_type": "markdown",
   "metadata": {},
   "source": [
    "<b><font color='#C12340'>CAUTION: THIS SECTION COULD AFFECT THE SHARED DATABASE, THINK TWICE BEFORE EXECUTING.</font></b>"
   ]
  },
  {
   "cell_type": "code",
   "execution_count": null,
   "metadata": {},
   "outputs": [],
   "source": [
    "db_dict = {'host': 'acs-db.mlpolicylab.dssg.io',\n",
    "           'database': 'acs_data_loading',\n",
    "           'user': 'mlpp_student', \n",
    "           'password': 'CARE-horse-most'}\n",
    "df = ACS_Blockgroup_Data_Pull().cleaned_data\n",
    "loader = ACS_Blockgroup_Data_Loader(df, db_dict, 'acs', 'chengyu2_acs_data')\n",
    "loader.create_table()\n",
    "loader.insert_data()"
   ]
  },
  {
   "cell_type": "markdown",
   "metadata": {},
   "source": [
    "### Simple Test Example"
   ]
  },
  {
   "cell_type": "code",
   "execution_count": null,
   "metadata": {},
   "outputs": [],
   "source": [
    "conn = psycopg2.connect(\n",
    "         host='localhost',\n",
    "         database='postgres',\n",
    "         user='postgres',\n",
    "         password='1622')\n",
    "\n",
    "cur = conn.cursor()\n",
    "\n",
    "cur.execute(\"INSERT INTO acs.chengyu2_acs_data2 VALUES (0, 24, 12)\")\n",
    "\n",
    "conn.commit()\n",
    "\n",
    "cur.close()\n",
    "\n",
    "conn.close()"
   ]
  }
 ],
 "metadata": {
  "kernelspec": {
   "display_name": "Python 3",
   "language": "python",
   "name": "python3"
  }
 },
 "nbformat": 4,
 "nbformat_minor": 4
}
